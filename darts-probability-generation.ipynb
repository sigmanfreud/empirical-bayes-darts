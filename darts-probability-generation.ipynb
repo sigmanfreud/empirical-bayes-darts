{
 "cells": [
  {
   "cell_type": "code",
   "execution_count": 1,
   "id": "7f0e6f64",
   "metadata": {},
   "outputs": [],
   "source": [
    "import numpy as np\n",
    "from scipy.stats import gamma\n",
    "from scipy.stats import multivariate_normal\n",
    "from scipy.stats import norm\n",
    "import matplotlib.pyplot as plt\n",
    "import math"
   ]
  },
  {
   "cell_type": "code",
   "execution_count": 19,
   "id": "fd04d49e",
   "metadata": {},
   "outputs": [
    {
     "name": "stdout",
     "output_type": "stream",
     "text": [
      "\n"
     ]
    }
   ],
   "source": [
    "'''\n",
    "STEP 1:\n",
    "\n",
    "We define preliminary measurements and associate points on the dartboard with regions on the dartboard.\n",
    "\n",
    "'''\n"
   ]
  },
  {
   "cell_type": "code",
   "execution_count": null,
   "id": "6a08c471",
   "metadata": {},
   "outputs": [],
   "source": []
  },
  {
   "cell_type": "code",
   "execution_count": 2,
   "id": "f1833393",
   "metadata": {},
   "outputs": [],
   "source": [
    "# Define the dartboard parameters\n",
    "bullseye_inner_radius = 12.7\n",
    "bullseye_outer_radius = 31.8\n",
    "triple_ring_inner_radius = 99\n",
    "triple_ring_outer_radius = 107\n",
    "double_ring_inner_radius = 162\n",
    "double_ring_outer_radius = 170"
   ]
  },
  {
   "cell_type": "code",
   "execution_count": 3,
   "id": "5e4e3416",
   "metadata": {},
   "outputs": [],
   "source": [
    "#DICTIONARY ASSOCIATING THE CIRCULAR ORDERING (1-20) beginning at 13 TO THE POINTS OF THE S REGION \n",
    "trans_angle_to_score_region = {\n",
    "        1: 13,\n",
    "        2: 4,\n",
    "        3: 18,\n",
    "        4: 1,\n",
    "        5: 20,\n",
    "        6: 5,\n",
    "        7: 12,\n",
    "        8: 9,\n",
    "        9: 14,\n",
    "        10: 11,\n",
    "        11: 8,\n",
    "        12: 16,\n",
    "        13: 7,\n",
    "        14: 19,\n",
    "        15: 3,\n",
    "        16: 17,\n",
    "        17: 2,\n",
    "        18: 15,\n",
    "        19: 10,\n",
    "        20: 6\n",
    "    }\n",
    "score_region_to_trans_angle = {value: key for key, value in trans_angle_to_score_region.items()}"
   ]
  },
  {
   "cell_type": "code",
   "execution_count": 4,
   "id": "aeb539b5",
   "metadata": {},
   "outputs": [],
   "source": [
    "def check_score_region(x, y):\n",
    "    distance = np.sqrt(x**2 + y**2)\n",
    "    angle = np.arctan2(y, x) % (2 * np.pi)\n",
    "    trans_angle = int((((angle - (np.pi / 20))/(np.pi / 10))) % 20) + 1 #converts angle into 1-20 for usage\n",
    "    if distance <= bullseye_inner_radius:\n",
    "        return 'BULL'\n",
    "    elif distance <= bullseye_outer_radius:\n",
    "        return 'BULLO'\n",
    "    elif distance <= triple_ring_inner_radius:\n",
    "        return f'S{trans_angle_to_score_region[trans_angle]}'\n",
    "    elif distance <= triple_ring_outer_radius:\n",
    "        return f'T{trans_angle_to_score_region[trans_angle]}'\n",
    "    elif distance <= double_ring_inner_radius:\n",
    "        return f'S{trans_angle_to_score_region[trans_angle]}'\n",
    "    elif distance <= double_ring_outer_radius:\n",
    "        return f'D{trans_angle_to_score_region[trans_angle]}'\n",
    "    else:\n",
    "        return 'OOB'"
   ]
  },
  {
   "cell_type": "code",
   "execution_count": 5,
   "id": "011a67d8",
   "metadata": {},
   "outputs": [
    {
     "name": "stdout",
     "output_type": "stream",
     "text": [
      "S18\n"
     ]
    }
   ],
   "source": [
    "print(check_score_region(100, 100))"
   ]
  },
  {
   "cell_type": "code",
   "execution_count": 6,
   "id": "d6a38c72",
   "metadata": {},
   "outputs": [],
   "source": [
    "#given a region, returns the number of points - will be used in generating heatmap\n",
    "def region_to_points(region):\n",
    "    if region == 'BULL': return 50\n",
    "    if region == 'BULLO': return 25\n",
    "    if region == 'OOB': return 0\n",
    "    \n",
    "    multiplier_dict = {\n",
    "        'S': 1,\n",
    "        'D': 2,\n",
    "        'T': 3\n",
    "    }\n",
    "    mult_value = multiplier_dict[region[0]]\n",
    "    raw_value = int(region[1:])\n",
    "    return mult_value * raw_value"
   ]
  },
  {
   "cell_type": "code",
   "execution_count": 7,
   "id": "9fd519ff",
   "metadata": {},
   "outputs": [
    {
     "name": "stdout",
     "output_type": "stream",
     "text": [
      "54\n"
     ]
    }
   ],
   "source": [
    "print(region_to_points(check_score_region(50,86)))"
   ]
  },
  {
   "cell_type": "code",
   "execution_count": null,
   "id": "aa6f6b6b",
   "metadata": {},
   "outputs": [],
   "source": []
  },
  {
   "cell_type": "code",
   "execution_count": 8,
   "id": "36625453",
   "metadata": {},
   "outputs": [
    {
     "name": "stdout",
     "output_type": "stream",
     "text": [
      "['S1', 'S2', 'S3', 'S4', 'S5', 'S6', 'S7', 'S8', 'S9', 'S10', 'S11', 'S12', 'S13', 'S14', 'S15', 'S16', 'S17', 'S18', 'S19', 'S20', 'D1', 'D2', 'D3', 'D4', 'D5', 'D6', 'D7', 'D8', 'D9', 'D10', 'D11', 'D12', 'D13', 'D14', 'D15', 'D16', 'D17', 'D18', 'D19', 'D20', 'T1', 'T2', 'T3', 'T4', 'T5', 'T6', 'T7', 'T8', 'T9', 'T10', 'T11', 'T12', 'T13', 'T14', 'T15', 'T16', 'T17', 'T18', 'T19', 'T20', 'OOB', 'BULL', 'BULLO']\n"
     ]
    }
   ],
   "source": [
    "# GENERATE ALL REGIONS OF THE BOARD\n",
    "combinations = [f\"{letter}{number}\" for letter in ['S', 'D', 'T'] for number in range(1, 21)]\n",
    "additional_entries = ['OOB', 'BULL', 'BULLO']\n",
    "dartboard = combinations + additional_entries\n",
    "\n",
    "# Print the resulting list\n",
    "print(dartboard)"
   ]
  },
  {
   "cell_type": "code",
   "execution_count": null,
   "id": "fda9ad75",
   "metadata": {},
   "outputs": [],
   "source": []
  },
  {
   "cell_type": "code",
   "execution_count": 9,
   "id": "5fbc90f5",
   "metadata": {},
   "outputs": [],
   "source": [
    "def region_to_center(region):\n",
    "    '''\n",
    "    ONLY WORKS FOR BULL, BULLO, D, T regions\n",
    "    FOR EVERYTHING ELSE, it returns (0,0) which is not good practice, but whatever\n",
    "    '''\n",
    "    if region == 'BULL': return (0,0)\n",
    "    if region == 'BULLO': return (0,0)\n",
    "    #ANGLE\n",
    "    raw_value = int(region[1:])\n",
    "    trans_angle = score_region_to_trans_angle[raw_value]\n",
    "    angle = ((trans_angle)%20)*(np.pi/10)\n",
    "    \n",
    "    #DISTANCE   \n",
    "    if region[0] == 'D': distance = (double_ring_inner_radius + double_ring_outer_radius)/2\n",
    "    if region[0] == 'T': distance = (triple_ring_inner_radius + triple_ring_outer_radius)/2\n",
    "        \n",
    "    return (distance*np.cos(angle), distance*np.sign(angle))"
   ]
  },
  {
   "cell_type": "code",
   "execution_count": 10,
   "id": "e2a6f86c",
   "metadata": {},
   "outputs": [
    {
     "data": {
      "text/plain": [
       "(-134.29682106624128, 166.0)"
      ]
     },
     "execution_count": 10,
     "metadata": {},
     "output_type": "execute_result"
    }
   ],
   "source": [
    "region_to_center(\"D16\")"
   ]
  },
  {
   "cell_type": "code",
   "execution_count": null,
   "id": "ee6c8824",
   "metadata": {},
   "outputs": [],
   "source": []
  },
  {
   "cell_type": "code",
   "execution_count": null,
   "id": "2d757d5a",
   "metadata": {},
   "outputs": [],
   "source": []
  },
  {
   "cell_type": "code",
   "execution_count": 12,
   "id": "4afe2d3a",
   "metadata": {},
   "outputs": [
    {
     "data": {
      "text/plain": [
       "'\\nSTEP 2\\n\\nNow, we generate the probabilities of landing in each of the regions. We take this in steps.\\n\\n1) Compute the probabilities of landing in a square.\\n2) Compute the probabilities of landing in some region.\\n'"
      ]
     },
     "execution_count": 12,
     "metadata": {},
     "output_type": "execute_result"
    }
   ],
   "source": [
    "'''\n",
    "STEP 2\n",
    "\n",
    "Now, we generate the probabilities of landing in each of the regions. We take this in steps.\n",
    "\n",
    "1) Compute the probabilities of landing in a square.\n",
    "2) Compute the probabilities of landing in some region.\n",
    "'''"
   ]
  },
  {
   "cell_type": "code",
   "execution_count": 13,
   "id": "edb894f9",
   "metadata": {},
   "outputs": [],
   "source": [
    "def probability_in_rectangular_region(mu_x, mu_y, sigma, region):\n",
    "    # Define the multivariate normal distribution\n",
    "    mvn_distribution = multivariate_normal([mu_x, mu_y], sigma**2 * np.eye(2))\n",
    "\n",
    "    # Extract the region bounds\n",
    "    x_min, x_max, y_min, y_max = region\n",
    "\n",
    "    # Compute the probability of landing in the rectangular region\n",
    "    probability =    mvn_distribution.cdf([x_max, y_max]) - mvn_distribution.cdf([x_min, y_max]) - \\\n",
    "                     mvn_distribution.cdf([x_max, y_min]) + mvn_distribution.cdf([x_min, y_min])\n",
    "    \n",
    "    return probability"
   ]
  },
  {
   "cell_type": "code",
   "execution_count": null,
   "id": "e3fc40df",
   "metadata": {},
   "outputs": [],
   "source": []
  },
  {
   "cell_type": "code",
   "execution_count": 14,
   "id": "d4b2994a",
   "metadata": {},
   "outputs": [
    {
     "data": {
      "text/plain": [
       "9.945111915435345e-05"
      ]
     },
     "execution_count": 14,
     "metadata": {},
     "output_type": "execute_result"
    }
   ],
   "source": [
    "probability_in_rectangular_region(2,3,40,(1,2,3,4))"
   ]
  },
  {
   "cell_type": "code",
   "execution_count": null,
   "id": "c9ef8314",
   "metadata": {},
   "outputs": [],
   "source": []
  },
  {
   "cell_type": "code",
   "execution_count": 15,
   "id": "af7b0e22",
   "metadata": {},
   "outputs": [],
   "source": [
    "def generate_grid(num_partitions):\n",
    "    # Preallocate the grid array\n",
    "    grid = np.empty((num_partitions**2, 4))\n",
    "\n",
    "    # Compute the size of each partition\n",
    "    partition_size = 340 / num_partitions\n",
    "\n",
    "    # Loop through each grid cell and compute the probability of landing in it\n",
    "    for i in range(num_partitions):\n",
    "        for j in range(num_partitions):\n",
    "            # Compute the bounds of the current grid cell\n",
    "            x_min = -170 + i * partition_size  # Adjusting for the center of the square\n",
    "            x_max = x_min + partition_size\n",
    "            y_min = -170 + j * partition_size  # Adjusting for the center of the square\n",
    "            y_max = y_min + partition_size\n",
    "            \n",
    "            # Assign the bounds to the grid array\n",
    "            index = i * num_partitions + j\n",
    "            grid[index] = (x_min, x_max, y_min, y_max)\n",
    "    return grid"
   ]
  },
  {
   "cell_type": "code",
   "execution_count": 16,
   "id": "1a3e5d34",
   "metadata": {},
   "outputs": [
    {
     "data": {
      "text/plain": [
       "array([[-170.,  -85., -170.,  -85.],\n",
       "       [-170.,  -85.,  -85.,    0.],\n",
       "       [-170.,  -85.,    0.,   85.],\n",
       "       [-170.,  -85.,   85.,  170.],\n",
       "       [ -85.,    0., -170.,  -85.],\n",
       "       [ -85.,    0.,  -85.,    0.],\n",
       "       [ -85.,    0.,    0.,   85.],\n",
       "       [ -85.,    0.,   85.,  170.],\n",
       "       [   0.,   85., -170.,  -85.],\n",
       "       [   0.,   85.,  -85.,    0.],\n",
       "       [   0.,   85.,    0.,   85.],\n",
       "       [   0.,   85.,   85.,  170.],\n",
       "       [  85.,  170., -170.,  -85.],\n",
       "       [  85.,  170.,  -85.,    0.],\n",
       "       [  85.,  170.,    0.,   85.],\n",
       "       [  85.,  170.,   85.,  170.]])"
      ]
     },
     "execution_count": 16,
     "metadata": {},
     "output_type": "execute_result"
    }
   ],
   "source": [
    "generate_grid(4)"
   ]
  },
  {
   "cell_type": "code",
   "execution_count": null,
   "id": "c1e7394d",
   "metadata": {},
   "outputs": [],
   "source": []
  },
  {
   "cell_type": "code",
   "execution_count": 21,
   "id": "db9d1318",
   "metadata": {},
   "outputs": [],
   "source": [
    "import numpy as np\n",
    "from scipy.stats import multivariate_normal\n",
    "\n",
    "def compute_total_probability(mu, sigma):\n",
    "    # Define the multivariate normal distribution\n",
    "    mvn_distribution = multivariate_normal(mean=mu, cov=sigma**2 * np.eye(2))\n",
    "    \n",
    "    # Generate grid\n",
    "    grid = generate_grid(50)\n",
    "    \n",
    "    # Compute centers of grid cells\n",
    "    x_centers = (grid[:, 0] + grid[:, 1]) / 2\n",
    "    y_centers = (grid[:, 2] + grid[:, 3]) / 2\n",
    "    \n",
    "    # Compute probabilities for all grid cells\n",
    "    probabilities = mvn_distribution.cdf(np.column_stack((grid[:, 1], grid[:, 3]))) - \\\n",
    "                    mvn_distribution.cdf(np.column_stack((grid[:, 0], grid[:, 3]))) - \\\n",
    "                    mvn_distribution.cdf(np.column_stack((grid[:, 1], grid[:, 2]))) + \\\n",
    "                    mvn_distribution.cdf(np.column_stack((grid[:, 0], grid[:, 2])))\n",
    "    \n",
    "    # Compute region numbers for all grid cells\n",
    "    region_numbers = np.array([check_score_region(x_center, y_center) for x_center, y_center in zip(x_centers, y_centers)])\n",
    "    \n",
    "    # Initialize dictionary to store probabilities for each region\n",
    "    probability_dictionary_int = {i: 0 for i in dartboard}\n",
    "    \n",
    "    # Accumulate probabilities for each region\n",
    "    for region_number in np.unique(region_numbers):\n",
    "        idx = region_numbers == region_number\n",
    "        probability_dictionary_int[region_number] = np.sum(probabilities[idx])\n",
    "    \n",
    "    return probability_dictionary_int"
   ]
  },
  {
   "cell_type": "code",
   "execution_count": 22,
   "id": "51e87ab7",
   "metadata": {},
   "outputs": [
    {
     "name": "stdout",
     "output_type": "stream",
     "text": [
      "{'S1': 0.0, 'S2': 0.0, 'S3': 0.0, 'S4': 0.022233338723722115, 'S5': 0.0, 'S6': 0.0, 'S7': 0.0, 'S8': 0.0, 'S9': 0.0, 'S10': 0.0, 'S11': 0.0, 'S12': 0.0, 'S13': 0.0, 'S14': 0.0, 'S15': 0.0, 'S16': 0.0, 'S17': 0.0, 'S18': 0.9777666612762764, 'S19': 0.0, 'S20': 0.0, 'D1': 1.0904161207021266e-224, 'D2': 0.0, 'D3': 0.0, 'D4': 0.0, 'D5': 0.0, 'D6': 0.0, 'D7': 0.0, 'D8': 0.0, 'D9': 0.0, 'D10': 0.0, 'D11': 0.0, 'D12': 0.0, 'D13': 0.0, 'D14': 0.0, 'D15': 0.0, 'D16': 0.0, 'D17': 0.0, 'D18': 4.47551033505493e-17, 'D19': 0.0, 'D20': 0.0, 'T1': 0.0, 'T2': 0.0, 'T3': 0.0, 'T4': 1.3155075082039464e-215, 'T5': 0.0, 'T6': 0.0, 'T7': 0.0, 'T8': 0.0, 'T9': 0.0, 'T10': 0.0, 'T11': 0.0, 'T12': 0.0, 'T13': 0.0, 'T14': 0.0, 'T15': 0.0, 'T16': 0.0, 'T17': 0.0, 'T18': 1.3155075082039464e-215, 'T19': 0.0, 'T20': 0.0, 'OOB': 2.2377551675274626e-16, 'BULL': 0.0, 'BULLO': 0.0}\n",
      "0.9999999999999988\n"
     ]
    }
   ],
   "source": [
    "# Define mean and standard deviation for the multivariate normal distribution\n",
    "mu = np.array([100, 100])  # Mean\n",
    "sigma = 1  # Standard deviation\n",
    "\n",
    "test = (compute_total_probability(mu, sigma))\n",
    "res = 0\n",
    "for entry in test:\n",
    "    res += test[entry]\n",
    "print(test)\n",
    "print(res)\n",
    "\n",
    "    "
   ]
  },
  {
   "cell_type": "code",
   "execution_count": null,
   "id": "ca4ee4db",
   "metadata": {},
   "outputs": [],
   "source": []
  }
 ],
 "metadata": {
  "kernelspec": {
   "display_name": "Python 3 (ipykernel)",
   "language": "python",
   "name": "python3"
  },
  "language_info": {
   "codemirror_mode": {
    "name": "ipython",
    "version": 3
   },
   "file_extension": ".py",
   "mimetype": "text/x-python",
   "name": "python",
   "nbconvert_exporter": "python",
   "pygments_lexer": "ipython3",
   "version": "3.11.4"
  }
 },
 "nbformat": 4,
 "nbformat_minor": 5
}
